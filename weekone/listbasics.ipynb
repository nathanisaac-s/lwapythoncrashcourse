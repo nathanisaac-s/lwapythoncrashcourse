{
 "cells": [
  {
   "cell_type": "code",
   "execution_count": 1,
   "metadata": {
    "collapsed": true
   },
   "outputs": [],
   "source": [
    "#! /usr/bin/env python3\n",
    "# ^ this line is a 'shebang' or 'hashbang' or 'crunchbang'. it tells a\n",
    "# unix-like system what program to run a script through so that you can\n",
    "# set the file to an executable and call it by itself. It's like how \n",
    "# windows guesses the program via the filename extention.\n",
    "#\n",
    "# ipython/jupyter doesn't care about this.\n",
    "\n",
    "# python has imports. they're usually less-namespaced than java.\n",
    "# module names should not have uppercase, spaces, dashes, underscores, etc.\n",
    "import random"
   ]
  },
  {
   "cell_type": "code",
   "execution_count": 3,
   "metadata": {
    "collapsed": true
   },
   "outputs": [],
   "source": [
    "#\n",
    "# Lists\n",
    "#\n",
    "# lists are dynamic structures that permit mixed types and have both\n",
    "# array and list-like interfaces available.\n",
    "\n",
    "# prefer underscores for variable names\n",
    "# python is fluent and flexible.\n",
    "my_first_words = \"hai u guise lets go and learn us a new python for an such a great goods!\"\n",
    "hello = \"hello\"\n",
    "world = \"world\"\n",
    "hello_world = hello + \" \" + world"
   ]
  },
  {
   "cell_type": "code",
   "execution_count": 4,
   "metadata": {
    "collapsed": false
   },
   "outputs": [
    {
     "name": "stdout",
     "output_type": "stream",
     "text": [
      "hello world\n"
     ]
    }
   ],
   "source": [
    "print(hello_world)"
   ]
  },
  {
   "cell_type": "code",
   "execution_count": 5,
   "metadata": {
    "collapsed": false
   },
   "outputs": [],
   "source": [
    "my_first_list = my_first_words.split()  # unlike java < 1.7, python ships with useful stdlib methods."
   ]
  },
  {
   "cell_type": "code",
   "execution_count": 6,
   "metadata": {
    "collapsed": false
   },
   "outputs": [
    {
     "data": {
      "text/plain": [
       "['hai',\n",
       " 'u',\n",
       " 'guise',\n",
       " 'lets',\n",
       " 'go',\n",
       " 'and',\n",
       " 'learn',\n",
       " 'us',\n",
       " 'a',\n",
       " 'new',\n",
       " 'python',\n",
       " 'for',\n",
       " 'an',\n",
       " 'such',\n",
       " 'a',\n",
       " 'great',\n",
       " 'goods!']"
      ]
     },
     "execution_count": 6,
     "metadata": {},
     "output_type": "execute_result"
    }
   ],
   "source": [
    "my_first_list"
   ]
  },
  {
   "cell_type": "code",
   "execution_count": 7,
   "metadata": {
    "collapsed": true
   },
   "outputs": [],
   "source": [
    "ohai_again = [ \"lol\", 1, 3, \"hai\"]"
   ]
  },
  {
   "cell_type": "code",
   "execution_count": 8,
   "metadata": {
    "collapsed": false
   },
   "outputs": [
    {
     "name": "stdout",
     "output_type": "stream",
     "text": [
      "hai\n",
      "u\n",
      "guise\n",
      "lets\n",
      "go\n",
      "and\n",
      "learn\n",
      "us\n",
      "a\n",
      "new\n",
      "python\n",
      "for\n",
      "an\n",
      "such\n",
      "a\n",
      "great\n",
      "goods!\n"
     ]
    }
   ],
   "source": [
    "# you might want to loop over a list...\n",
    "i = 0\n",
    "while (i < len(my_first_list)):\n",
    "    print(my_first_list[i])\n",
    "    i = i + 1"
   ]
  },
  {
   "cell_type": "code",
   "execution_count": 9,
   "metadata": {
    "collapsed": false
   },
   "outputs": [
    {
     "name": "stdout",
     "output_type": "stream",
     "text": [
      "hai\n",
      "u\n",
      "guise\n",
      "lets\n",
      "go\n",
      "and\n",
      "learn\n",
      "us\n",
      "a\n",
      "new\n",
      "python\n",
      "for\n",
      "an\n",
      "such\n",
      "a\n",
      "great\n",
      "goods!\n"
     ]
    }
   ],
   "source": [
    "# ...except it's not 1970 anymore, so don't do that again.\n",
    "# we can iterate over the list:\n",
    "for word in my_first_list:\n",
    "    print(word)  # you will see `print word` in python 2. print is now just a function in python 3."
   ]
  },
  {
   "cell_type": "code",
   "execution_count": 10,
   "metadata": {
    "collapsed": false
   },
   "outputs": [
    {
     "name": "stdout",
     "output_type": "stream",
     "text": [
      "1: hai\n",
      "2: u\n",
      "3: guise\n",
      "4: lets\n",
      "5: go\n",
      "6: and\n",
      "7: learn\n",
      "8: us\n",
      "9: a\n",
      "10: new\n",
      "11: python\n",
      "12: for\n",
      "13: an\n",
      "14: such\n",
      "15: a\n",
      "16: great\n",
      "17: goods!\n"
     ]
    }
   ],
   "source": [
    "# maybe you want to index the list. you might be tempted to do this:\n",
    "i = 1\n",
    "for word in my_first_list:\n",
    "    print(\"{}: {}\".format(i, word))\n",
    "    i += 1  # since it's not pretending to be a 1970s language, python has no `++` operator."
   ]
  },
  {
   "cell_type": "code",
   "execution_count": 11,
   "metadata": {
    "collapsed": false
   },
   "outputs": [
    {
     "name": "stdout",
     "output_type": "stream",
     "text": [
      "\n",
      "u \n",
      "guise guise \n",
      "lets lets lets \n",
      "go go go go \n",
      "and and and and and \n",
      "learn learn learn learn learn learn \n",
      "us us us us us us us \n",
      "a a a a a a a a \n",
      "new new new new new new new new new \n",
      "python python python python python python python python python python \n",
      "for for for for for for for for for for for \n",
      "an an an an an an an an an an an an \n",
      "such such such such such such such such such such such such such \n",
      "a a a a a a a a a a a a a a \n",
      "great great great great great great great great great great great great great great great \n",
      "goods! goods! goods! goods! goods! goods! goods! goods! goods! goods! goods! goods! goods! goods! goods! goods! \n"
     ]
    }
   ],
   "source": [
    "# Remember how I said not to do that and that python ships with features? The saner way is simple:\n",
    "for index, word in enumerate(my_first_list):\n",
    "    print((word + \" \") * index)  # I thought you said python was type safe! how can you multiply a string?"
   ]
  },
  {
   "cell_type": "code",
   "execution_count": null,
   "metadata": {
    "collapsed": true
   },
   "outputs": [],
   "source": [
    "# because there's lots of sugar and magic, that's why.\n",
    "# cause string implemetns __mul__, which exposes the `*` syntax to the user.\n",
    "# start with 1, because we don't want to `* 0` against the first word and disappear it.\n",
    "for index, word in enumerate(my_first_list, 1):\n",
    "    print((word + \" \").__mul__(index))  # I thought you said python was type safe! how can you multiply a string?\n"
   ]
  },
  {
   "cell_type": "code",
   "execution_count": 12,
   "metadata": {
    "collapsed": false
   },
   "outputs": [
    {
     "data": {
      "text/plain": [
       "'hello 1 peoples'"
      ]
     },
     "execution_count": 12,
     "metadata": {},
     "output_type": "execute_result"
    }
   ],
   "source": [
    "\"%s %d %s\" % (\"hello\", 1, \"peoples\")"
   ]
  },
  {
   "cell_type": "code",
   "execution_count": 13,
   "metadata": {
    "collapsed": false
   },
   "outputs": [
    {
     "data": {
      "text/plain": [
       "True"
      ]
     },
     "execution_count": 13,
     "metadata": {},
     "output_type": "execute_result"
    }
   ],
   "source": [
    "\"guise\" in my_first_list"
   ]
  },
  {
   "cell_type": "code",
   "execution_count": 14,
   "metadata": {
    "collapsed": true
   },
   "outputs": [],
   "source": [
    "# maybe we need more words.\n",
    "my_first_list.append(\"i'm\")\n",
    "my_first_list.append([ \"not\", \"finished\", \"yet!\" ])"
   ]
  },
  {
   "cell_type": "code",
   "execution_count": 15,
   "metadata": {
    "collapsed": false
   },
   "outputs": [
    {
     "data": {
      "text/plain": [
       "['hai',\n",
       " 'u',\n",
       " 'guise',\n",
       " 'lets',\n",
       " 'go',\n",
       " 'and',\n",
       " 'learn',\n",
       " 'us',\n",
       " 'a',\n",
       " 'new',\n",
       " 'python',\n",
       " 'for',\n",
       " 'an',\n",
       " 'such',\n",
       " 'a',\n",
       " 'great',\n",
       " 'goods!',\n",
       " \"i'm\",\n",
       " ['not', 'finished', 'yet!']]"
      ]
     },
     "execution_count": 15,
     "metadata": {},
     "output_type": "execute_result"
    }
   ],
   "source": [
    "my_first_list"
   ]
  },
  {
   "cell_type": "code",
   "execution_count": 16,
   "metadata": {
    "collapsed": false
   },
   "outputs": [
    {
     "name": "stdout",
     "output_type": "stream",
     "text": [
      "hai\n"
     ]
    }
   ],
   "source": [
    "print(my_first_list[0]) # lists are indexed."
   ]
  },
  {
   "cell_type": "code",
   "execution_count": 17,
   "metadata": {
    "collapsed": false
   },
   "outputs": [
    {
     "name": "stdout",
     "output_type": "stream",
     "text": [
      "['not', 'finished', 'yet!']\n"
     ]
    }
   ],
   "source": [
    "print(my_first_list[-1])"
   ]
  },
  {
   "cell_type": "code",
   "execution_count": 18,
   "metadata": {
    "collapsed": false
   },
   "outputs": [
    {
     "name": "stdout",
     "output_type": "stream",
     "text": [
      "['hai', 'u', 'guise', 'lets', 'go', 'and', 'learn', 'us', 'a', 'new', 'python', 'for', 'an', 'such', 'a', 'great', 'goods!', \"i'm\", 'not', 'finished', 'yet!']\n"
     ]
    }
   ],
   "source": [
    "# see how that last one  is a different type? let's fix it.\n",
    "# first, pop the last value off and grab it.\n",
    "whoops = my_first_list.pop()\n",
    "my_first_list += whoops  # `+=` calls __iadd__ for 'iterable add'\n",
    "# that's better.\n",
    "print(my_first_list)"
   ]
  },
  {
   "cell_type": "code",
   "execution_count": 21,
   "metadata": {
    "collapsed": false
   },
   "outputs": [
    {
     "data": {
      "text/plain": [
       "['not', 'finished', 'yet!', 'not', 'finished', 'yet!']"
      ]
     },
     "execution_count": 21,
     "metadata": {},
     "output_type": "execute_result"
    }
   ],
   "source": [
    "whoops + whoops"
   ]
  },
  {
   "cell_type": "code",
   "execution_count": 19,
   "metadata": {
    "collapsed": true
   },
   "outputs": [],
   "source": [
    "# let's noisy up our list some.\n",
    "orig_list_len = len(my_first_list)\n",
    "for _ in range(0, 1000):\n",
    "    rand_draw = random.randint(0, orig_list_len - 1)  # list slicing can get fencepost errors\n",
    "    my_first_list.append(my_first_list[rand_draw])"
   ]
  },
  {
   "cell_type": "code",
   "execution_count": 22,
   "metadata": {
    "collapsed": false
   },
   "outputs": [
    {
     "name": "stdout",
     "output_type": "stream",
     "text": [
      "1021\n"
     ]
    }
   ],
   "source": [
    "# let's get back to slicing. like any real langauge python is zero-indexed.\n",
    "print(len(my_first_list))"
   ]
  },
  {
   "cell_type": "code",
   "execution_count": 23,
   "metadata": {
    "collapsed": false
   },
   "outputs": [
    {
     "name": "stdout",
     "output_type": "stream",
     "text": [
      "['hai', 'u', 'guise']\n"
     ]
    }
   ],
   "source": [
    "print(my_first_list[0:3])"
   ]
  },
  {
   "cell_type": "code",
   "execution_count": 24,
   "metadata": {
    "collapsed": false
   },
   "outputs": [
    {
     "name": "stdout",
     "output_type": "stream",
     "text": [
      "['hai', 'u', 'guise']\n"
     ]
    }
   ],
   "source": [
    "print(my_first_list[:3])"
   ]
  },
  {
   "cell_type": "code",
   "execution_count": 25,
   "metadata": {
    "collapsed": false
   },
   "outputs": [
    {
     "name": "stdout",
     "output_type": "stream",
     "text": [
      "['us', 'guise', 'new']\n"
     ]
    }
   ],
   "source": [
    "print(my_first_list[1018:])"
   ]
  },
  {
   "cell_type": "code",
   "execution_count": 26,
   "metadata": {
    "collapsed": false
   },
   "outputs": [
    {
     "name": "stdout",
     "output_type": "stream",
     "text": [
      "['us', 'guise', 'new']\n"
     ]
    }
   ],
   "source": [
    "print(my_first_list[-3:])"
   ]
  },
  {
   "cell_type": "code",
   "execution_count": 27,
   "metadata": {
    "collapsed": false
   },
   "outputs": [
    {
     "name": "stdout",
     "output_type": "stream",
     "text": [
      "Ruhroh! Got an IndexError: list index out of range\n"
     ]
    }
   ],
   "source": [
    "# here's the fencepost error.\n",
    "try:\n",
    "    print(my_first_list[len(my_first_list)])\n",
    "except IndexError as e:\n",
    "    print(\"Ruhroh! Got an IndexError: \" + str(e))"
   ]
  },
  {
   "cell_type": "code",
   "execution_count": 28,
   "metadata": {
    "collapsed": false
   },
   "outputs": [
    {
     "name": "stdout",
     "output_type": "stream",
     "text": [
      "new\n"
     ]
    }
   ],
   "source": [
    "print(my_first_list[len(my_first_list) - 1])"
   ]
  },
  {
   "cell_type": "code",
   "execution_count": 29,
   "metadata": {
    "collapsed": false
   },
   "outputs": [
    {
     "name": "stdout",
     "output_type": "stream",
     "text": [
      "new\n"
     ]
    }
   ],
   "source": [
    "print(my_first_list[-1])"
   ]
  },
  {
   "cell_type": "code",
   "execution_count": null,
   "metadata": {
    "collapsed": true
   },
   "outputs": [],
   "source": []
  }
 ],
 "metadata": {
  "kernelspec": {
   "display_name": "Python 3",
   "language": "python",
   "name": "python3"
  },
  "language_info": {
   "codemirror_mode": {
    "name": "ipython",
    "version": 3
   },
   "file_extension": ".py",
   "mimetype": "text/x-python",
   "name": "python",
   "nbconvert_exporter": "python",
   "pygments_lexer": "ipython3",
   "version": "3.4.3"
  }
 },
 "nbformat": 4,
 "nbformat_minor": 0
}
