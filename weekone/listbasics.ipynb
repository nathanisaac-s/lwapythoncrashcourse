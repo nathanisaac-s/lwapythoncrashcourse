{
 "cells": [
  {
   "cell_type": "code",
   "execution_count": null,
   "metadata": {
    "collapsed": true
   },
   "outputs": [],
   "source": [
    "#! /usr/bin/env python3\n",
    "# ^ this line is a 'shebang' or 'hashbang' or 'crunchbang'. it tells a\n",
    "# unix-like system what program to run a script through so that you can\n",
    "# set the file to an executable and call it by itself. It's like how \n",
    "# windows guesses the program via the filename extention.\n",
    "#\n",
    "# ipython/jupyter doesn't care about this.\n",
    "\n",
    "# python has imports. they're usually less-namespaced than java.\n",
    "# module names should not have uppercase, spaces, dashes, underscores, etc.\n",
    "import random"
   ]
  },
  {
   "cell_type": "code",
   "execution_count": null,
   "metadata": {
    "collapsed": true
   },
   "outputs": [],
   "source": [
    "#\n",
    "# Lists\n",
    "#\n",
    "# lists are dynamic structures that permit mixed types and have both\n",
    "# array and list-like interfaces available.\n",
    "\n",
    "# prefer underscores for variable names\n",
    "# python is fluent and flexible.\n",
    "my_first_words = \"hai u guise lets go and learn us a new python for an such a great goods!\"\n",
    "hello = \"hello\"\n",
    "world = \"world\"\n",
    "hello_world = hello + \" \" + world"
   ]
  },
  {
   "cell_type": "code",
   "execution_count": null,
   "metadata": {
    "collapsed": false
   },
   "outputs": [],
   "source": [
    "print(hello_world)"
   ]
  },
  {
   "cell_type": "code",
   "execution_count": null,
   "metadata": {
    "collapsed": false
   },
   "outputs": [],
   "source": [
    "my_first_list = my_first_words.split()  # unlike java < 1.7, python ships with useful stdlib methods."
   ]
  },
  {
   "cell_type": "code",
   "execution_count": null,
   "metadata": {
    "collapsed": false
   },
   "outputs": [],
   "source": [
    "my_first_list"
   ]
  },
  {
   "cell_type": "code",
   "execution_count": null,
   "metadata": {
    "collapsed": false
   },
   "outputs": [],
   "source": [
    "# you might want to loop over a list...\n",
    "i = 0\n",
    "while (i < len(my_first_list)):\n",
    "    print(my_first_list[i])\n",
    "    i = i + 1"
   ]
  },
  {
   "cell_type": "code",
   "execution_count": null,
   "metadata": {
    "collapsed": false
   },
   "outputs": [],
   "source": [
    "# ...except it's not 1970 anymore, so don't do that again.\n",
    "# we can iterate over the list:\n",
    "for word in my_first_list:\n",
    "    print(word)  # you will see `print word` in python 2. print is now just a function in python 3."
   ]
  },
  {
   "cell_type": "code",
   "execution_count": null,
   "metadata": {
    "collapsed": false
   },
   "outputs": [],
   "source": [
    "# maybe you want to index the list. you might be tempted to do this:\n",
    "i = 1\n",
    "for word in my_first_list:\n",
    "    print(\"{}: {}\".format(i, word))\n",
    "    i += 1  # since it's not pretending to be a 1970s language, python has no `++` operator."
   ]
  },
  {
   "cell_type": "code",
   "execution_count": null,
   "metadata": {
    "collapsed": false
   },
   "outputs": [],
   "source": [
    "# Remember how I said not to do that and that python ships with features? The saner way is simple:\n",
    "for index, word in enumerate(my_first_list):\n",
    "    print((word + \" \") * index)  # I thought you said python was type safe! how can you multiply a string?"
   ]
  },
  {
   "cell_type": "code",
   "execution_count": null,
   "metadata": {
    "collapsed": true
   },
   "outputs": [],
   "source": [
    "# because there's lots of sugar and magic, that's why.\n",
    "# cause string implemetns __mul__, which exposes the `*` syntax to the user.\n",
    "# start with 1, because we don't want to `* 0` against the first word and disappear it.\n",
    "for index, word in enumerate(my_first_list, 1):\n",
    "    print((word + \" \").__mul__(index))  # I thought you said python was type safe! how can you multiply a string?\n"
   ]
  },
  {
   "cell_type": "code",
   "execution_count": null,
   "metadata": {
    "collapsed": true
   },
   "outputs": [],
   "source": [
    "# maybe we need more words.\n",
    "my_first_list.append(\"i'm\")\n",
    "my_first_list.append([ \"not\", \"finished\", \"yet!\" ])"
   ]
  },
  {
   "cell_type": "code",
   "execution_count": null,
   "metadata": {
    "collapsed": true
   },
   "outputs": [],
   "source": [
    "print(my_first_list)"
   ]
  },
  {
   "cell_type": "code",
   "execution_count": null,
   "metadata": {
    "collapsed": true
   },
   "outputs": [],
   "source": [
    "print(my_first_list[0]) # lists are indexed."
   ]
  },
  {
   "cell_type": "code",
   "execution_count": null,
   "metadata": {
    "collapsed": true
   },
   "outputs": [],
   "source": [
    "print(my_first_list[-1])"
   ]
  },
  {
   "cell_type": "code",
   "execution_count": null,
   "metadata": {
    "collapsed": true
   },
   "outputs": [],
   "source": [
    "# see how that last one  is a different type? let's fix it.\n",
    "# first, pop the last value off and grab it.\n",
    "whoops = my_first_list.pop()\n",
    "my_first_list += whoops  # `+=` calls __iadd__ for 'iterable add'\n",
    "# that's better.\n",
    "print(my_first_list)"
   ]
  },
  {
   "cell_type": "code",
   "execution_count": null,
   "metadata": {
    "collapsed": true
   },
   "outputs": [],
   "source": [
    "# let's noisy up our list some.\n",
    "orig_list_len = len(my_first_list)\n",
    "for _ in range(0, 1000):\n",
    "    rand_draw = random.randint(0, orig_list_len - 1)  # list slicing can get fencepost errors\n",
    "    my_first_list.append(my_first_list[rand_draw])"
   ]
  },
  {
   "cell_type": "code",
   "execution_count": null,
   "metadata": {
    "collapsed": true
   },
   "outputs": [],
   "source": [
    "# let's get back to slicing. like any real langauge python is zero-indexed.\n",
    "print(len(my_first_list))"
   ]
  },
  {
   "cell_type": "code",
   "execution_count": null,
   "metadata": {
    "collapsed": true
   },
   "outputs": [],
   "source": [
    "print(my_first_list[0:3])"
   ]
  },
  {
   "cell_type": "code",
   "execution_count": null,
   "metadata": {
    "collapsed": true
   },
   "outputs": [],
   "source": [
    "print(my_first_list[:3])"
   ]
  },
  {
   "cell_type": "code",
   "execution_count": null,
   "metadata": {
    "collapsed": true
   },
   "outputs": [],
   "source": [
    "print(my_first_list[1018:])"
   ]
  },
  {
   "cell_type": "code",
   "execution_count": null,
   "metadata": {
    "collapsed": true
   },
   "outputs": [],
   "source": [
    "print(my_first_list[-3:])"
   ]
  },
  {
   "cell_type": "code",
   "execution_count": null,
   "metadata": {
    "collapsed": true
   },
   "outputs": [],
   "source": [
    "# here's the fencepost error.\n",
    "try:\n",
    "    print(my_first_list[len(my_first_list)])\n",
    "except IndexError as e:\n",
    "    print(\"Ruhroh! Got an IndexError: \" + str(e))"
   ]
  },
  {
   "cell_type": "code",
   "execution_count": null,
   "metadata": {
    "collapsed": true
   },
   "outputs": [],
   "source": [
    "print(my_first_list[len(my_first_list) - 1])"
   ]
  },
  {
   "cell_type": "code",
   "execution_count": null,
   "metadata": {
    "collapsed": true
   },
   "outputs": [],
   "source": [
    "print(my_first_list[-1])"
   ]
  }
 ],
 "metadata": {
  "kernelspec": {
   "display_name": "Python 3",
   "language": "python",
   "name": "python3"
  },
  "language_info": {
   "codemirror_mode": {
    "name": "ipython",
    "version": 3
   },
   "file_extension": ".py",
   "mimetype": "text/x-python",
   "name": "python",
   "nbconvert_exporter": "python",
   "pygments_lexer": "ipython3",
   "version": "3.4.3"
  }
 },
 "nbformat": 4,
 "nbformat_minor": 0
}
