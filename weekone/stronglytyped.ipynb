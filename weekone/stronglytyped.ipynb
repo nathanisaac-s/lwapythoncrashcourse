{
 "cells": [
  {
   "cell_type": "code",
   "execution_count": 2,
   "metadata": {
    "collapsed": true
   },
   "outputs": [],
   "source": [
    "#! /usr/bin/env python3\n",
    "# despite being dynamic, python is not loosely typed. you \n",
    "# *WILL* get type errors if you try to go Full Javascripttard.\n",
    "#\n",
    "# I included this module because I get the impression people \n",
    "# think that the only two language paradigms in existence are \n",
    "# Java vs. Javascript, because \"Java is hard!\" and \"Javascript is easy!\"\n",
    "#\n",
    "# please disabuse yourself of this.\n",
    "#\n",
    "# https://i.imgur.com/6aclmM6.png\n",
    "import time\n",
    "# imports can pull in individual parts of a module\n",
    "from datetime import datetime\n",
    "from collections import namedtuple"
   ]
  },
  {
   "cell_type": "markdown",
   "metadata": {},
   "source": [
    "<img src=\"https://i.imgur.com/6aclmM6.png\" />"
   ]
  },
  {
   "cell_type": "code",
   "execution_count": 3,
   "metadata": {
    "collapsed": true
   },
   "outputs": [],
   "source": [
    "# you'll see this later.\n",
    "# it's effectively a lightweight class.\n",
    "CallArgPair = namedtuple(\"CallArgPair\", [\"arg\", \"method\"])"
   ]
  },
  {
   "cell_type": "code",
   "execution_count": 4,
   "metadata": {
    "collapsed": true
   },
   "outputs": [],
   "source": [
    "# python has classes--unlike Java, they aren't the unit of project structure\n",
    "# so they can be named anything and multiple classes can live in one file.\n",
    "#\n",
    "# worry about this later.\n",
    "class CallArg(object):  # inherit from object import for 'New-Style' classes.\n",
    "    # you probably want to define a constructor.\n",
    "    def __init__(self, arg, call):\n",
    "        self.arg = arg\n",
    "        self.call = call\n",
    "\n",
    "    # here's a magic method to get more sugar.\n",
    "    def __str__(self):\n",
    "        return \"CallArg(call={}, arg={})\".format(self.call, self.arg)\n",
    "\n",
    "    # python is unconcerned with method privacy.\n",
    "    def run(self):\n",
    "        self.call(self.arg)"
   ]
  },
  {
   "cell_type": "code",
   "execution_count": 6,
   "metadata": {
    "collapsed": true
   },
   "outputs": [],
   "source": [
    "def run_safely(potentially_broken_function):\n",
    "    # python is newer than 1980 so it has exceptions. syntax is, of course,\n",
    "    # whitespace sensitive\n",
    "    #\n",
    "    # try-catch-finally doesn't incur anywhere near the same sort of \n",
    "    # overhead you get with Java. Also unlike Java python exceptions aren't\n",
    "    # checked so catching is completely optional...\n",
    "    #\n",
    "    # ...quick quiz: name a language other than Java with checked exceptions\n",
    "    #\n",
    "    # In any event you get a `try-except-else-finally` to:\n",
    "    # - try something\n",
    "    # - unwind on exception\n",
    "    # - finish the 'else' if no exception\n",
    "    # - finally run through the finally block for cleanup on both success\n",
    "    # and failure, etc.\n",
    "    try:\n",
    "        # Java may be the industry leader getting books about OOP printing,\n",
    "        # but Python (and lots of other langs) have a stronger object model.\n",
    "        #\n",
    "        # in Python, almost everything is an object (and the things that\n",
    "        # aren't, like infix operators, are usually sugar around the object\n",
    "        # data model.\n",
    "        #\n",
    "        # This means that methods and functions are also objects, allowing\n",
    "        # them first-class status: anything you do with an object can be\n",
    "        # done with a function. Cf. with Java prior to 1.8\n",
    "        #\n",
    "        # tl;dr: we can pass a method as a function.\n",
    "        print(\"+ You got {}\".format(potentially_broken_function()))\n",
    "    # like with all exception-based languages it's bad practice to \n",
    "    # catch all exceptions. But let's do that here for sake of demonstration.\n",
    "    except BaseException as e:\n",
    "        print(\"- caught exception: {exc}\\n  {msg}\".format(exc=type(e), msg=e))\n",
    "    # while not often used, python try-catch features an `else` that runs\n",
    "    # prior to `finally` if the block doesn't throw an error.\n",
    "    else:\n",
    "        print(\"  you ran a function ({}) successfully. programming is hard.\".format(potentially_broken_function))\n",
    "    finally:\n",
    "        print(\"  ran {}.\".format(potentially_broken_function))"
   ]
  },
  {
   "cell_type": "code",
   "execution_count": 7,
   "metadata": {
    "collapsed": false
   },
   "outputs": [
    {
     "name": "stdout",
     "output_type": "stream",
     "text": [
      "\n",
      "\n",
      "[+]    let's run some simple calls.\n",
      "\n",
      "- caught exception: <class 'TypeError'>\n",
      "  unsupported operand type(s) for -: 'str' and 'int'\n",
      "  ran <function <lambda> at 0x7fbea85dfa60>.\n",
      "- caught exception: <class 'TypeError'>\n",
      "  Can't convert 'int' object to str implicitly\n",
      "  ran <function <lambda> at 0x7fbea85dfae8>.\n",
      "- caught exception: <class 'TypeError'>\n",
      "  unsupported operand type(s) for -: 'str' and 'str'\n",
      "  ran <function <lambda> at 0x7fbea85dfb70>.\n",
      "+ You got 54\n",
      "  you ran a function (<function <lambda> at 0x7fbea85dfbf8>) successfully. programming is hard.\n",
      "  ran <function <lambda> at 0x7fbea85dfbf8>.\n",
      "- caught exception: <class 'TypeError'>\n",
      "  Can't convert 'NoneType' object to str implicitly\n",
      "  ran <function <lambda> at 0x7fbea85dfc80>.\n",
      "------------------------------------------------------------------------\n"
     ]
    }
   ],
   "source": [
    "    print(\"\\n\\n[+]    let's run some simple calls.\\n\")\n",
    "    simple_calls = [lambda: \"5\" - 3,\n",
    "                    lambda: \"5\" + 3,\n",
    "                    lambda: \"5\" - \"4\",\n",
    "                    lambda: \"5\" + str(4),  # this one works.\n",
    "                    lambda: \"foo\" + None]\n",
    "\n",
    "    for each in simple_calls:\n",
    "        run_safely(each)\n",
    "    # this looks like a type error, but it's not: str class implements __mul__\n",
    "    # it implements __add__, too, but doesn't cast implicitly.\n",
    "    print(72 * \"-\")\n"
   ]
  },
  {
   "cell_type": "code",
   "execution_count": 8,
   "metadata": {
    "collapsed": false
   },
   "outputs": [
    {
     "name": "stdout",
     "output_type": "stream",
     "text": [
      "\n",
      "\n",
      "[+]    let's run some calls that take args.\n",
      "\n",
      "- caught exception: <class 'TypeError'>\n",
      "  'tuple' object is not callable\n",
      "  ran (1, <function <lambda> at 0x7fbea85dff28>).\n",
      "- caught exception: <class 'TypeError'>\n",
      "  'tuple' object is not callable\n",
      "  ran (1, <function <lambda> at 0x7fbea85dfe18>).\n",
      "- caught exception: <class 'TypeError'>\n",
      "  'tuple' object is not callable\n",
      "  ran (1, <function <lambda> at 0x7fbea85dfea0>).\n",
      "- caught exception: <class 'TypeError'>\n",
      "  'tuple' object is not callable\n",
      "  ran (1, <function times_three_again at 0x7fbea85dfd90>).\n",
      "- caught exception: <class 'TypeError'>\n",
      "  'tuple' object is not callable\n",
      "  ran (1, <function times_four at 0x7fbea85df9d8>).\n"
     ]
    }
   ],
   "source": [
    "    print(\"\\n\\n[+]    let's run some calls that take args.\\n\")\n",
    "    # ...for example, you can name lambdas...\n",
    "    times_three = lambda x: x * 3\n",
    "    five_plus_minus = lambda x: \"5\" + x - x\n",
    "    five_minus_plus = lambda x: \"5\" - x + x\n",
    "\n",
    "    # ...or just inline it explicitly...\n",
    "    def times_three_again(arg):\n",
    "        return arg * 3\n",
    "\n",
    "    # ...you can also do that on one line:\n",
    "    def times_four(x): return x * 4\n",
    "\n",
    "    # functions defined inline in another function only exist in that scope.\n",
    "    #\n",
    "    # if you haven't seen a tuple before, you have now.\n",
    "    # a tuple is an immutable array-like structure that is preeminantly useful.\n",
    "    calls_with_args = [(1, times_three),\n",
    "                       (1, five_minus_plus),\n",
    "                       (1, five_plus_minus),\n",
    "                       (1, times_three_again),\n",
    "                       (1, times_four)]\n",
    "\n",
    "    # this doesn't work, but why?\n",
    "    for every in calls_with_args:\n",
    "        run_safely(every)"
   ]
  },
  {
   "cell_type": "code",
   "execution_count": 9,
   "metadata": {
    "collapsed": false
   },
   "outputs": [
    {
     "name": "stdout",
     "output_type": "stream",
     "text": [
      "- caught exception: <class 'TypeError'>\n",
      "  <lambda>() missing 1 required positional argument: 'x'\n",
      "  ran <function <lambda> at 0x7fbea85dff28>.\n",
      "- caught exception: <class 'TypeError'>\n",
      "  <lambda>() missing 1 required positional argument: 'x'\n",
      "  ran <function <lambda> at 0x7fbea85dfe18>.\n",
      "- caught exception: <class 'TypeError'>\n",
      "  <lambda>() missing 1 required positional argument: 'x'\n",
      "  ran <function <lambda> at 0x7fbea85dfea0>.\n",
      "- caught exception: <class 'TypeError'>\n",
      "  times_three_again() missing 1 required positional argument: 'arg'\n",
      "  ran <function times_three_again at 0x7fbea85dfd90>.\n",
      "- caught exception: <class 'TypeError'>\n",
      "  times_four() missing 1 required positional argument: 'x'\n",
      "  ran <function times_four at 0x7fbea85df9d8>.\n"
     ]
    }
   ],
   "source": [
    "    for _, every in calls_with_args:\n",
    "        run_safely(every)"
   ]
  },
  {
   "cell_type": "code",
   "execution_count": 11,
   "metadata": {
    "collapsed": true
   },
   "outputs": [],
   "source": [
    "def run_arg_call_pair(arg_with_call):\n",
    "    try:\n",
    "        # mass assignment is possible.\n",
    "        arg, method = arg_with_call[0], arg_with_call[1]\n",
    "        # this isn't ideal since you could easily hit a type error here.\n",
    "        print(\"+ You got: {}\".format(method(arg)))\n",
    "    except Exception as e:\n",
    "        print(\"- caught exception: {exc}\\n  {msg}\".format(exc=type(e), msg=e))\n",
    "    else:\n",
    "        print(\"  you ran `{}({})` successfully. programming is hard.\".format(method, arg))\n",
    "    finally:\n",
    "        print(\"  ran {}.\".format(method))"
   ]
  },
  {
   "cell_type": "code",
   "execution_count": 12,
   "metadata": {
    "collapsed": false
   },
   "outputs": [
    {
     "name": "stdout",
     "output_type": "stream",
     "text": [
      "??? and one more time.\n",
      "\n",
      "+ You got: 3\n",
      "  you ran `<function <lambda> at 0x7fbea85dff28>(1)` successfully. programming is hard.\n",
      "  ran <function <lambda> at 0x7fbea85dff28>.\n",
      "- caught exception: <class 'TypeError'>\n",
      "  unsupported operand type(s) for -: 'str' and 'int'\n",
      "  ran <function <lambda> at 0x7fbea85dfe18>.\n",
      "- caught exception: <class 'TypeError'>\n",
      "  Can't convert 'int' object to str implicitly\n",
      "  ran <function <lambda> at 0x7fbea85dfea0>.\n",
      "+ You got: 3\n",
      "  you ran `<function times_three_again at 0x7fbea85dfd90>(1)` successfully. programming is hard.\n",
      "  ran <function times_three_again at 0x7fbea85dfd90>.\n",
      "+ You got: 4\n",
      "  you ran `<function times_four at 0x7fbea85df9d8>(1)` successfully. programming is hard.\n",
      "  ran <function times_four at 0x7fbea85df9d8>.\n",
      "------------------------------------------------------------------------\n"
     ]
    }
   ],
   "source": [
    "    print(\"??? and one more time.\\n\")\n",
    "    for call_with_arg in calls_with_args:\n",
    "        run_arg_call_pair(call_with_arg)\n",
    "    print(72 * \"-\")"
   ]
  },
  {
   "cell_type": "code",
   "execution_count": 13,
   "metadata": {
    "collapsed": false
   },
   "outputs": [],
   "source": [
    "def run_an_eval(eval_str):\n",
    "    try:\n",
    "        # lol code injection on purpose\n",
    "        print(\"+ you did stupid shit and evaled `{}` successfully to get: {}.\\nPROGRAMMING IS HARD.\".format(eval_str, eval(eval_str)))\n",
    "    except Exception as e:\n",
    "        print(\"- caught exception: {exc}\\n  {msg}\".format(exc=type(e), msg=e))   \n",
    "    finally:\n",
    "        print(\"  congrats on trying to run `{}`.\".format(eval_str))"
   ]
  },
  {
   "cell_type": "code",
   "execution_count": 14,
   "metadata": {
    "collapsed": false
   },
   "outputs": [
    {
     "name": "stdout",
     "output_type": "stream",
     "text": [
      "\n",
      "\n",
      "[+]    now let's do it Biznez Rewls style\n",
      "\n",
      "- caught exception: <class 'NameError'>\n",
      "  name 'x' is not defined\n",
      "  congrats on trying to run `x * 3`.\n",
      "- caught exception: <class 'TypeError'>\n",
      "  bad operand type for unary +: 'str'\n",
      "  congrats on trying to run `\"5\" + + \"5\"`.\n",
      "- caught exception: <class 'TypeError'>\n",
      "  bad operand type for unary +: 'str'\n",
      "  congrats on trying to run `\"foo\" + + \"foo\"`.\n",
      "- caught exception: <class 'TypeError'>\n",
      "  bad operand type for unary -: 'str'\n",
      "  congrats on trying to run `\"5\" + - \"2\"`.\n",
      "+ you did stupid shit and evaled `\"5 - 2\"` successfully to get: 5 - 2.\n",
      "PROGRAMMING IS HARD.\n",
      "  congrats on trying to run `\"5 - 2\"`.\n",
      "+ you did stupid shit and evaled `5 - 2` successfully to get: 3.\n",
      "PROGRAMMING IS HARD.\n",
      "  congrats on trying to run `5 - 2`.\n",
      "------------------------------------------------------------------------\n"
     ]
    }
   ],
   "source": [
    "    print(\"\\n\\n[+]    now let's do it Biznez Rewls style\\n\")\n",
    "    # don't use evals.\n",
    "    calls_to_eval = ['x * 3',\n",
    "                     '\"5\" + + \"5\"',\n",
    "                     '\"foo\" + + \"foo\"',\n",
    "                     '\"5\" + - \"2\"',\n",
    "                     '\"5 - 2\"',\n",
    "                     '5 - 2']\n",
    "\n",
    "    for each in calls_to_eval:\n",
    "        run_an_eval(each)\n",
    "    print(72 * \"-\")"
   ]
  },
  {
   "cell_type": "code",
   "execution_count": 15,
   "metadata": {
    "collapsed": true
   },
   "outputs": [],
   "source": [
    "def run_typesafe_arg_call_pair(arg_with_call):\n",
    "    try:\n",
    "        # isinstance checks an object against a type.\n",
    "        # the `assert` keyword checks something is true.\n",
    "        assert isinstance(arg_with_call, CallArgPair)\n",
    "        print(\"+ You got {}\".format(arg_with_call.method(arg_with_call.arg)))\n",
    "    except Exception as e:\n",
    "        print(\"- caught exception on arg: {arg} {exc}\\n  {msg}\".format(arg=arg_with_call,\n",
    "                                                                     exc=type(e),\n",
    "                                                                     msg=e))\n",
    "    else:\n",
    "        print(\"  you ran `{}({})` successfully. programming is hard.\".format(arg_with_call.method,\n",
    "                                                                           arg_with_call.arg))\n",
    "    finally:\n",
    "        print(\"  ran arg-call-pair: {}.\".format(arg_with_call))"
   ]
  },
  {
   "cell_type": "code",
   "execution_count": 16,
   "metadata": {
    "collapsed": false
   },
   "outputs": [
    {
     "name": "stdout",
     "output_type": "stream",
     "text": [
      "Let's run this with some type checking.\n",
      "+ You got 3\n",
      "  you ran `<function <lambda> at 0x7fbea85dff28>(1)` successfully. programming is hard.\n",
      "  ran arg-call-pair: CallArgPair(arg=1, method=<function <lambda> at 0x7fbea85dff28>).\n",
      "+ You got 3\n",
      "  you ran `<function times_three_again at 0x7fbea85dfd90>(1)` successfully. programming is hard.\n",
      "  ran arg-call-pair: CallArgPair(arg=1, method=<function times_three_again at 0x7fbea85dfd90>).\n",
      "- caught exception on arg: 2015-09-24 13:25:00.864512 <class 'AssertionError'>\n",
      "  \n",
      "  ran arg-call-pair: 2015-09-24 13:25:00.864512.\n",
      "- caught exception on arg: blow up <class 'AssertionError'>\n",
      "  \n",
      "  ran arg-call-pair: blow up.\n",
      "------------------------------------------------------------------------\n"
     ]
    }
   ],
   "source": [
    "    # what if you want more type safety?\n",
    "    print(\"Let's run this with some type checking.\")\n",
    "    namedtup_calls_with_args = [CallArgPair(1, times_three),\n",
    "                                CallArgPair(1, times_three_again),\n",
    "                                datetime.now(),\n",
    "                                \"blow up\"]\n",
    "    for call_with_arg in namedtup_calls_with_args:\n",
    "        run_typesafe_arg_call_pair(call_with_arg)\n",
    "    print(72 * \"-\")"
   ]
  },
  {
   "cell_type": "code",
   "execution_count": 17,
   "metadata": {
    "collapsed": true
   },
   "outputs": [],
   "source": [
    "def run_class_based(call_arg):\n",
    "    # python is dynamically typed AKA \"duck typed\" AKA late-bound, meaning\n",
    "    # you can get away with something like this.\n",
    "    try:\n",
    "        # because of late-binding, you don't know if the code will run until\n",
    "        # an object gets to the call site, so generally speaking some checking\n",
    "        # is a good thing.\n",
    "        #\n",
    "        # you could just asert, but let's try to be clever.\n",
    "        if not isinstance(call_arg, CallArg):\n",
    "            # try to instantiate on-demand from args\n",
    "            call_arg = CallArg(call_arg[0], call_arg[1])\n",
    "        call_arg.run()\n",
    "    except Exception as e:\n",
    "        print(\"caught exception: {exc}\\n  {msg}\".format(exc=type(e), msg=e))\n",
    "    else:\n",
    "        print(\"you ran `{}` successfully. programming is hard.\".format(call_arg))"
   ]
  },
  {
   "cell_type": "code",
   "execution_count": 18,
   "metadata": {
    "collapsed": false
   },
   "outputs": [
    {
     "name": "stdout",
     "output_type": "stream",
     "text": [
      "Maybe you like using classes though.\n",
      "you ran `CallArg(call=<function <lambda> at 0x7fbea85dff28>, arg=1)` successfully. programming is hard.\n",
      "you ran `CallArg(call=<function times_three_again at 0x7fbea85dfd90>, arg=1)` successfully. programming is hard.\n",
      "you ran `CallArg(call=<function times_four at 0x7fbea85df9d8>, arg=1)` successfully. programming is hard.\n",
      "caught exception: <class 'TypeError'>\n",
      "  'int' object is not callable\n",
      "caught exception: <class 'TypeError'>\n",
      "  'str' object is not callable\n"
     ]
    }
   ],
   "source": [
    "    print(\"Maybe you like using classes though.\")\n",
    "    #what if you <3 classes?\n",
    "    class_calls = [ CallArg(1, times_three),\n",
    "                    CallArg(1, times_three_again),\n",
    "                    (1, times_four),\n",
    "                    (0, 1),\n",
    "                    \"not a class\" ]\n",
    "    for each in class_calls:\n",
    "        run_class_based(each)\n"
   ]
  },
  {
   "cell_type": "code",
   "execution_count": 19,
   "metadata": {
    "collapsed": false
   },
   "outputs": [
    {
     "data": {
      "text/plain": [
       "True"
      ]
     },
     "execution_count": 19,
     "metadata": {},
     "output_type": "execute_result"
    }
   ],
   "source": [
    "#\n",
    "# EXTRA SPECIAL WTF SECTION\n",
    "#\n",
    "True + True == 2 and True + False == 1 and False + False == 0\n",
    "# HA HA BOOLEANS ARE C-STYLE I BET YOU DON'T FEEL SO TYPE-SAFE ANYMORE"
   ]
  },
  {
   "cell_type": "code",
   "execution_count": 20,
   "metadata": {
    "collapsed": false
   },
   "outputs": [
    {
     "data": {
      "text/plain": [
       "2"
      ]
     },
     "execution_count": 20,
     "metadata": {},
     "output_type": "execute_result"
    }
   ],
   "source": [
    "True + True"
   ]
  },
  {
   "cell_type": "code",
   "execution_count": 21,
   "metadata": {
    "collapsed": false
   },
   "outputs": [
    {
     "data": {
      "text/plain": [
       "0"
      ]
     },
     "execution_count": 21,
     "metadata": {},
     "output_type": "execute_result"
    }
   ],
   "source": [
    "True - 1"
   ]
  },
  {
   "cell_type": "code",
   "execution_count": null,
   "metadata": {
    "collapsed": true
   },
   "outputs": [],
   "source": []
  }
 ],
 "metadata": {
  "kernelspec": {
   "display_name": "Python 3",
   "language": "python",
   "name": "python3"
  },
  "language_info": {
   "codemirror_mode": {
    "name": "ipython",
    "version": 3
   },
   "file_extension": ".py",
   "mimetype": "text/x-python",
   "name": "python",
   "nbconvert_exporter": "python",
   "pygments_lexer": "ipython3",
   "version": "3.4.3"
  }
 },
 "nbformat": 4,
 "nbformat_minor": 0
}
