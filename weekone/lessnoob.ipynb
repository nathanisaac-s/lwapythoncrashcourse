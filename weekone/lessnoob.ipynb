{
 "cells": [
  {
   "cell_type": "code",
   "execution_count": 7,
   "metadata": {
    "collapsed": true
   },
   "outputs": [],
   "source": [
    "#! /usr/bin/env python3\n",
    "\"\"\"\n",
    "This is the module-level docstring, like a class-level Javadoc. It is\n",
    "actually just a multi-line string: that's what the three quotes are for.\n",
    "\n",
    "What a Real Programmer makes a Python.\n",
    "\"\"\"\n",
    "# import some things.\n",
    "import sys\n",
    "import time\n",
    "\n",
    "# define a constant--this is only enforced by convention, you can change it later.\n",
    "HELLO = \"O HAI!\""
   ]
  },
  {
   "cell_type": "code",
   "execution_count": 8,
   "metadata": {
    "collapsed": true
   },
   "outputs": [],
   "source": [
    "# let's write our first method!\n",
    "def say_something(name):\n",
    "    \"\"\"\n",
    "    Let's say hello!\n",
    "    \"\"\"\n",
    "    # python is whitespace sensitive. you must use tabs or spaces consistently.\n",
    "    print(\"{} Today is {}\".format(HELLO, time.strftime(\"%Y-%m-%d\",\n",
    "                                                       time.localtime())))\n",
    "    # except when you're inside parens and in some other circumstances,\n",
    "    # which makes mandatory whitespace less obnoxious. Set up your editor\n",
    "    # properly and this cease to be an issue.\n",
    "    print(\"Hello {person}\".format(person=name))\n",
    "    \n",
    "say_something?"
   ]
  },
  {
   "cell_type": "code",
   "execution_count": 9,
   "metadata": {
    "collapsed": true
   },
   "outputs": [],
   "source": [
    "# use of `main` is entirely optional and follows no enforced standard.\n",
    "# but let's use a `main` function to make the program more recognizable.\n",
    "def main(your_name):\n",
    "    \"\"\"\n",
    "    Wow you follow conventions too!\n",
    "    \"\"\"\n",
    "    # call our method\n",
    "    say_something(your_name)"
   ]
  },
  {
   "cell_type": "code",
   "execution_count": 10,
   "metadata": {
    "collapsed": false
   },
   "outputs": [
    {
     "name": "stdout",
     "output_type": "stream",
     "text": [
      "sorry you need an arg.\n"
     ]
    },
    {
     "ename": "SystemExit",
     "evalue": "1",
     "output_type": "error",
     "traceback": [
      "An exception has occurred, use %tb to see the full traceback.\n",
      "\u001b[1;31mSystemExit\u001b[0m\u001b[1;31m:\u001b[0m 1\n"
     ]
    },
    {
     "name": "stderr",
     "output_type": "stream",
     "text": [
      "To exit: use 'exit', 'quit', or Ctrl-D.\n"
     ]
    }
   ],
   "source": [
    "# this pattern below is very common in actual scripts, but doesn't\n",
    "# make a whole bunch of sense in an interactive session. I included it\n",
    "# here for completion's sake.\n",
    "#\n",
    "# now, let's actually run a program!\n",
    "#\n",
    "# in reality, there actually is a main called \"__main__\".\n",
    "#\n",
    "# We can worry about this in a later module, but the way it works is that\n",
    "# double-double-underscores are \"magic\" methods provided by the interpreter\n",
    "# under certain circumstances, like if you're running at the top-level or if\n",
    "# a class implements specific __interface__. This is called the \"data model\".\n",
    "#\n",
    "# this is actually how infix operators work: a class implements __add__.\n",
    "# see https://docs.python.org/3/reference/datamodel.html\n",
    "if __name__ == \"__main__\":\n",
    "    if len(sys.argv) != 2:\n",
    "        print(\"sorry you need an arg.\")\n",
    "        # non-zero exit if improper use\n",
    "        sys.exit(1)\n",
    "    # wrap the whole program up in sys.exit() so that if it exists sucessfully\n",
    "    # the OS and shell or other calling program are aware.\n",
    "    sys.exit(main(sys.argv[1]))"
   ]
  },
  {
   "cell_type": "code",
   "execution_count": 11,
   "metadata": {
    "collapsed": false
   },
   "outputs": [
    {
     "name": "stdout",
     "output_type": "stream",
     "text": [
      "O HAI! Today is 2015-09-24\n",
      "Hello USERNAME\n"
     ]
    }
   ],
   "source": [
    "# see, I said it wouldn't work. Let's try somthing that does.\n",
    "main(\"USERNAME\")"
   ]
  },
  {
   "cell_type": "code",
   "execution_count": null,
   "metadata": {
    "collapsed": true
   },
   "outputs": [],
   "source": []
  },
  {
   "cell_type": "code",
   "execution_count": null,
   "metadata": {
    "collapsed": true
   },
   "outputs": [],
   "source": []
  },
  {
   "cell_type": "code",
   "execution_count": null,
   "metadata": {
    "collapsed": true
   },
   "outputs": [],
   "source": []
  }
 ],
 "metadata": {
  "kernelspec": {
   "display_name": "Python 3",
   "language": "python",
   "name": "python3"
  },
  "language_info": {
   "codemirror_mode": {
    "name": "ipython",
    "version": 3
   },
   "file_extension": ".py",
   "mimetype": "text/x-python",
   "name": "python",
   "nbconvert_exporter": "python",
   "pygments_lexer": "ipython3",
   "version": "3.4.3"
  }
 },
 "nbformat": 4,
 "nbformat_minor": 0
}
